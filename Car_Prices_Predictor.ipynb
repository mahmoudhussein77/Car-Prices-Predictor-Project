{
 "cells": [
  {
   "cell_type": "markdown",
   "id": "b574873e-e280-4fcc-b5a0-7062f93a12ec",
   "metadata": {},
   "source": [
    "# Car Prices Predictor Project"
   ]
  },
  {
   "cell_type": "markdown",
   "id": "44b4734c-66e4-4302-8f18-33e20b38e40e",
   "metadata": {},
   "source": [
    "### Importing needed modules"
   ]
  },
  {
   "cell_type": "code",
   "execution_count": 448,
   "id": "82577a61-471b-4b0d-82b6-55ade6849545",
   "metadata": {},
   "outputs": [],
   "source": [
    "import pandas as pd\n",
    "import numpy as np\n",
    "import tensorflow as tf\n",
    "import keras\n",
    "import warnings\n",
    "import pickle\n",
    "import seaborn as sns\n",
    "import matplotlib.pyplot as plt\n",
    "import matplotlib.colors as mcolors\n",
    "from sklearn.model_selection import train_test_split\n",
    "from sklearn.ensemble import RandomForestRegressor\n",
    "from sklearn.metrics import median_absolute_error\n",
    "from sklearn.metrics import mean_squared_error\n",
    "from sklearn.metrics import mean_absolute_error "
   ]
  },
  {
   "cell_type": "markdown",
   "id": "a1e09d70-f0fd-4a50-a5f8-19fa470877d0",
   "metadata": {},
   "source": [
    "### Reading Data"
   ]
  },
  {
   "cell_type": "code",
   "execution_count": 69,
   "id": "2607c387-93ce-4a2b-9155-6def3655515d",
   "metadata": {},
   "outputs": [
    {
     "data": {
      "text/html": [
       "<div>\n",
       "<style scoped>\n",
       "    .dataframe tbody tr th:only-of-type {\n",
       "        vertical-align: middle;\n",
       "    }\n",
       "\n",
       "    .dataframe tbody tr th {\n",
       "        vertical-align: top;\n",
       "    }\n",
       "\n",
       "    .dataframe thead th {\n",
       "        text-align: right;\n",
       "    }\n",
       "</style>\n",
       "<table border=\"1\" class=\"dataframe\">\n",
       "  <thead>\n",
       "    <tr style=\"text-align: right;\">\n",
       "      <th></th>\n",
       "      <th>Name</th>\n",
       "      <th>Price</th>\n",
       "      <th>Color</th>\n",
       "      <th>Mileage</th>\n",
       "      <th>Make</th>\n",
       "      <th>Model</th>\n",
       "      <th>City</th>\n",
       "      <th>Date Displayed</th>\n",
       "      <th>Automatic Transmission</th>\n",
       "      <th>Air Conditioner</th>\n",
       "      <th>Power Steering</th>\n",
       "      <th>Remote Control</th>\n",
       "      <th>Item URL</th>\n",
       "    </tr>\n",
       "  </thead>\n",
       "  <tbody>\n",
       "    <tr>\n",
       "      <th>0</th>\n",
       "      <td>Kia Sportage 2024</td>\n",
       "      <td>2,800,000 EGP</td>\n",
       "      <td>Dark grey</td>\n",
       "      <td>300 Km</td>\n",
       "      <td>Kia</td>\n",
       "      <td>Sportage</td>\n",
       "      <td>Tagamo3 - New Cairo</td>\n",
       "      <td>2024-02-16</td>\n",
       "      <td>Yes</td>\n",
       "      <td>Yes</td>\n",
       "      <td>Yes</td>\n",
       "      <td>Yes</td>\n",
       "      <td>https://eg.hatla2ee.com/en/car/kia/sportage/62...</td>\n",
       "    </tr>\n",
       "    <tr>\n",
       "      <th>1</th>\n",
       "      <td>Chery Arrizo 5 2022</td>\n",
       "      <td>NaN</td>\n",
       "      <td>Bronze</td>\n",
       "      <td>86,000 Km</td>\n",
       "      <td>Chery</td>\n",
       "      <td>Arrizo 5</td>\n",
       "      <td>Nasr city</td>\n",
       "      <td>2024-02-16</td>\n",
       "      <td>Yes</td>\n",
       "      <td>Yes</td>\n",
       "      <td>Yes</td>\n",
       "      <td>Yes</td>\n",
       "      <td>https://eg.hatla2ee.com/en/car/chery/Arrizo-5/...</td>\n",
       "    </tr>\n",
       "    <tr>\n",
       "      <th>2</th>\n",
       "      <td>Fiat Tipo 2021</td>\n",
       "      <td>1,200,000 EGP</td>\n",
       "      <td>Petroleum</td>\n",
       "      <td>131,000 Km</td>\n",
       "      <td>Fiat</td>\n",
       "      <td>Tipo</td>\n",
       "      <td>Kafr el-Dawwar</td>\n",
       "      <td>2024-02-16</td>\n",
       "      <td>Yes</td>\n",
       "      <td>Yes</td>\n",
       "      <td>Yes</td>\n",
       "      <td>Yes</td>\n",
       "      <td>https://eg.hatla2ee.com/en/car/fiat/tipo/6286701</td>\n",
       "    </tr>\n",
       "    <tr>\n",
       "      <th>3</th>\n",
       "      <td>Hyundai Tucson Turbo GDI 2021</td>\n",
       "      <td>2,050,000 EGP</td>\n",
       "      <td>Black</td>\n",
       "      <td>125,000 Km</td>\n",
       "      <td>Hyundai</td>\n",
       "      <td>Tucson Turbo GDI</td>\n",
       "      <td>Nasr city</td>\n",
       "      <td>2024-02-16</td>\n",
       "      <td>Yes</td>\n",
       "      <td>Yes</td>\n",
       "      <td>Yes</td>\n",
       "      <td>Yes</td>\n",
       "      <td>https://eg.hatla2ee.com/en/car/hyundai/Tucson-...</td>\n",
       "    </tr>\n",
       "    <tr>\n",
       "      <th>4</th>\n",
       "      <td>BMW X1 2018</td>\n",
       "      <td>2,050,000 EGP</td>\n",
       "      <td>Gray</td>\n",
       "      <td>84,000 Km</td>\n",
       "      <td>BMW</td>\n",
       "      <td>X1</td>\n",
       "      <td>Cairo</td>\n",
       "      <td>2024-02-16</td>\n",
       "      <td>Yes</td>\n",
       "      <td>Yes</td>\n",
       "      <td>Yes</td>\n",
       "      <td>Yes</td>\n",
       "      <td>https://eg.hatla2ee.com/en/car/bmw/x1/6254123</td>\n",
       "    </tr>\n",
       "  </tbody>\n",
       "</table>\n",
       "</div>"
      ],
      "text/plain": [
       "                            Name          Price      Color     Mileage  \\\n",
       "0              Kia Sportage 2024  2,800,000 EGP  Dark grey      300 Km   \n",
       "1            Chery Arrizo 5 2022            NaN     Bronze   86,000 Km   \n",
       "2                 Fiat Tipo 2021  1,200,000 EGP  Petroleum  131,000 Km   \n",
       "3  Hyundai Tucson Turbo GDI 2021  2,050,000 EGP      Black  125,000 Km   \n",
       "4                    BMW X1 2018  2,050,000 EGP       Gray   84,000 Km   \n",
       "\n",
       "      Make             Model                 City Date Displayed  \\\n",
       "0      Kia          Sportage  Tagamo3 - New Cairo     2024-02-16   \n",
       "1    Chery          Arrizo 5            Nasr city     2024-02-16   \n",
       "2     Fiat              Tipo       Kafr el-Dawwar     2024-02-16   \n",
       "3  Hyundai  Tucson Turbo GDI            Nasr city     2024-02-16   \n",
       "4      BMW                X1                Cairo     2024-02-16   \n",
       "\n",
       "  Automatic Transmission Air Conditioner Power Steering Remote Control  \\\n",
       "0                    Yes             Yes            Yes            Yes   \n",
       "1                    Yes             Yes            Yes            Yes   \n",
       "2                    Yes             Yes            Yes            Yes   \n",
       "3                    Yes             Yes            Yes            Yes   \n",
       "4                    Yes             Yes            Yes            Yes   \n",
       "\n",
       "                                            Item URL  \n",
       "0  https://eg.hatla2ee.com/en/car/kia/sportage/62...  \n",
       "1  https://eg.hatla2ee.com/en/car/chery/Arrizo-5/...  \n",
       "2   https://eg.hatla2ee.com/en/car/fiat/tipo/6286701  \n",
       "3  https://eg.hatla2ee.com/en/car/hyundai/Tucson-...  \n",
       "4      https://eg.hatla2ee.com/en/car/bmw/x1/6254123  "
      ]
     },
     "execution_count": 69,
     "metadata": {},
     "output_type": "execute_result"
    }
   ],
   "source": [
    "data = pd.read_csv(\"D:\\Car Prices Predictor\\car.csv\")\n",
    "warnings.filterwarnings('ignore',category=SyntaxWarning)\n",
    "data.head()"
   ]
  },
  {
   "cell_type": "code",
   "execution_count": 70,
   "id": "3ac6be3e-70c9-492a-bbbe-a283bdddd753",
   "metadata": {},
   "outputs": [
    {
     "data": {
      "text/plain": [
       "(33559, 13)"
      ]
     },
     "execution_count": 70,
     "metadata": {},
     "output_type": "execute_result"
    }
   ],
   "source": [
    "data.shape"
   ]
  },
  {
   "cell_type": "code",
   "execution_count": 71,
   "id": "5673fac6-48d5-4a24-96dd-ef6dab59d740",
   "metadata": {},
   "outputs": [
    {
     "data": {
      "text/html": [
       "<div>\n",
       "<style scoped>\n",
       "    .dataframe tbody tr th:only-of-type {\n",
       "        vertical-align: middle;\n",
       "    }\n",
       "\n",
       "    .dataframe tbody tr th {\n",
       "        vertical-align: top;\n",
       "    }\n",
       "\n",
       "    .dataframe thead th {\n",
       "        text-align: right;\n",
       "    }\n",
       "</style>\n",
       "<table border=\"1\" class=\"dataframe\">\n",
       "  <thead>\n",
       "    <tr style=\"text-align: right;\">\n",
       "      <th></th>\n",
       "      <th>Name</th>\n",
       "      <th>Price</th>\n",
       "      <th>Color</th>\n",
       "      <th>Mileage</th>\n",
       "      <th>Make</th>\n",
       "      <th>Model</th>\n",
       "      <th>City</th>\n",
       "      <th>Date Displayed</th>\n",
       "      <th>Automatic Transmission</th>\n",
       "      <th>Air Conditioner</th>\n",
       "      <th>Power Steering</th>\n",
       "      <th>Remote Control</th>\n",
       "      <th>Item URL</th>\n",
       "    </tr>\n",
       "  </thead>\n",
       "  <tbody>\n",
       "    <tr>\n",
       "      <th>count</th>\n",
       "      <td>33559</td>\n",
       "      <td>32625</td>\n",
       "      <td>33559</td>\n",
       "      <td>31440</td>\n",
       "      <td>33559</td>\n",
       "      <td>33559</td>\n",
       "      <td>33559</td>\n",
       "      <td>33559</td>\n",
       "      <td>33559</td>\n",
       "      <td>33559</td>\n",
       "      <td>33559</td>\n",
       "      <td>33559</td>\n",
       "      <td>33559</td>\n",
       "    </tr>\n",
       "    <tr>\n",
       "      <th>unique</th>\n",
       "      <td>4158</td>\n",
       "      <td>828</td>\n",
       "      <td>24</td>\n",
       "      <td>1084</td>\n",
       "      <td>101</td>\n",
       "      <td>889</td>\n",
       "      <td>103</td>\n",
       "      <td>124</td>\n",
       "      <td>2</td>\n",
       "      <td>2</td>\n",
       "      <td>2</td>\n",
       "      <td>2</td>\n",
       "      <td>22048</td>\n",
       "    </tr>\n",
       "    <tr>\n",
       "      <th>top</th>\n",
       "      <td>Nissan Sunny 2022</td>\n",
       "      <td>650,000 EGP</td>\n",
       "      <td>Black</td>\n",
       "      <td>200,000 Km</td>\n",
       "      <td>Hyundai</td>\n",
       "      <td>Sunny</td>\n",
       "      <td>Cairo</td>\n",
       "      <td>2024-02-16</td>\n",
       "      <td>Yes</td>\n",
       "      <td>Yes</td>\n",
       "      <td>Yes</td>\n",
       "      <td>Yes</td>\n",
       "      <td>https://eg.hatla2ee.com/en/car/kia/sportage/62...</td>\n",
       "    </tr>\n",
       "    <tr>\n",
       "      <th>freq</th>\n",
       "      <td>647</td>\n",
       "      <td>969</td>\n",
       "      <td>6532</td>\n",
       "      <td>1317</td>\n",
       "      <td>3800</td>\n",
       "      <td>1868</td>\n",
       "      <td>3983</td>\n",
       "      <td>12333</td>\n",
       "      <td>21289</td>\n",
       "      <td>20643</td>\n",
       "      <td>18450</td>\n",
       "      <td>19263</td>\n",
       "      <td>289</td>\n",
       "    </tr>\n",
       "  </tbody>\n",
       "</table>\n",
       "</div>"
      ],
      "text/plain": [
       "                     Name        Price  Color     Mileage     Make  Model  \\\n",
       "count               33559        32625  33559       31440    33559  33559   \n",
       "unique               4158          828     24        1084      101    889   \n",
       "top     Nissan Sunny 2022  650,000 EGP  Black  200,000 Km  Hyundai  Sunny   \n",
       "freq                  647          969   6532        1317     3800   1868   \n",
       "\n",
       "         City Date Displayed Automatic Transmission Air Conditioner  \\\n",
       "count   33559          33559                  33559           33559   \n",
       "unique    103            124                      2               2   \n",
       "top     Cairo     2024-02-16                    Yes             Yes   \n",
       "freq     3983          12333                  21289           20643   \n",
       "\n",
       "       Power Steering Remote Control  \\\n",
       "count           33559          33559   \n",
       "unique              2              2   \n",
       "top               Yes            Yes   \n",
       "freq            18450          19263   \n",
       "\n",
       "                                                 Item URL  \n",
       "count                                               33559  \n",
       "unique                                              22048  \n",
       "top     https://eg.hatla2ee.com/en/car/kia/sportage/62...  \n",
       "freq                                                  289  "
      ]
     },
     "execution_count": 71,
     "metadata": {},
     "output_type": "execute_result"
    }
   ],
   "source": [
    "data.describe()"
   ]
  },
  {
   "cell_type": "markdown",
   "id": "d4218178-64b6-4939-9999-b491aba83c43",
   "metadata": {},
   "source": [
    "## Encoding Features into Numerical Classes"
   ]
  },
  {
   "cell_type": "code",
   "execution_count": 116,
   "id": "b6684a6f-357d-4351-b220-3bcd8fd395fe",
   "metadata": {},
   "outputs": [],
   "source": [
    "x1 = set(data['Make'])\n",
    "dict2 = {}\n",
    "for n,i in enumerate(x1):\n",
    "    dict2[i]=n\n",
    "data['car_brand_classes'] = data['Make'].map(dict2)"
   ]
  },
  {
   "cell_type": "code",
   "execution_count": 117,
   "id": "b567be42-4751-4e95-882e-d28451e0f275",
   "metadata": {},
   "outputs": [],
   "source": [
    "x2 = set(data['Model'])\n",
    "dict1 = {}\n",
    "\n",
    "for i,n in enumerate(x2):\n",
    "    dict1[n] = i\n",
    "    \n",
    "data['car_model_classes'] = data['Model'].map(dict1)"
   ]
  },
  {
   "cell_type": "code",
   "execution_count": 74,
   "id": "af6a39b8-7f68-492a-84e6-e29af1560571",
   "metadata": {},
   "outputs": [],
   "source": [
    "x3 = set(data['Color'])\n",
    "dict3 = {}\n",
    "for n,i in enumerate(x3):\n",
    "    dict3[i]=n\n",
    "data['color_classes'] = data['Color'].map(dict3)"
   ]
  },
  {
   "cell_type": "code",
   "execution_count": 75,
   "id": "f2ab03fb-92f5-4ceb-bc21-02622b187cfc",
   "metadata": {},
   "outputs": [],
   "source": [
    "x4 = set(data['Automatic Transmission'])\n",
    "dict4 = {'Yes':1,\n",
    "          'No':0}\n",
    "data['automatic_transmission_classes'] = data['Automatic Transmission'].map(dict4)"
   ]
  },
  {
   "cell_type": "code",
   "execution_count": 76,
   "id": "2a8ff888-b4f1-41f2-b91c-c72ebf030d68",
   "metadata": {},
   "outputs": [],
   "source": [
    "x5 = set(data['Air Conditioner'])\n",
    "dict5 = {'Yes':1,\n",
    "          'No':0}\n",
    "data['air_conditioner_classes'] = data['Air Conditioner'].map(dict5)"
   ]
  },
  {
   "cell_type": "code",
   "execution_count": 77,
   "id": "97aed375-5b91-49a9-a605-5cf55d27b8ab",
   "metadata": {},
   "outputs": [],
   "source": [
    "x6 = set(data['Power Steering'])\n",
    "dict6 = {'Yes':1,\n",
    "          'No':0}\n",
    "data['power_steering_classes'] = data['Power Steering'].map(dict6)"
   ]
  },
  {
   "cell_type": "code",
   "execution_count": 78,
   "id": "8ce9e354-9788-4b46-8295-67948d267eaf",
   "metadata": {},
   "outputs": [],
   "source": [
    "x7 = set(data['Remote Control'])\n",
    "dict7 = {'Yes':1,\n",
    "          'No':0}\n",
    "data['remote_control_classes'] = data['Remote Control'].map(dict7)"
   ]
  },
  {
   "cell_type": "code",
   "execution_count": 118,
   "id": "6b07d434-dc55-4f7e-8212-d3ab7ae78d9f",
   "metadata": {},
   "outputs": [
    {
     "data": {
      "text/html": [
       "<div>\n",
       "<style scoped>\n",
       "    .dataframe tbody tr th:only-of-type {\n",
       "        vertical-align: middle;\n",
       "    }\n",
       "\n",
       "    .dataframe tbody tr th {\n",
       "        vertical-align: top;\n",
       "    }\n",
       "\n",
       "    .dataframe thead th {\n",
       "        text-align: right;\n",
       "    }\n",
       "</style>\n",
       "<table border=\"1\" class=\"dataframe\">\n",
       "  <thead>\n",
       "    <tr style=\"text-align: right;\">\n",
       "      <th></th>\n",
       "      <th>Name</th>\n",
       "      <th>Price</th>\n",
       "      <th>Color</th>\n",
       "      <th>Mileage</th>\n",
       "      <th>Make</th>\n",
       "      <th>Model</th>\n",
       "      <th>City</th>\n",
       "      <th>Date Displayed</th>\n",
       "      <th>Automatic Transmission</th>\n",
       "      <th>Air Conditioner</th>\n",
       "      <th>...</th>\n",
       "      <th>car_model_classes</th>\n",
       "      <th>car_brand_classes</th>\n",
       "      <th>color_classes</th>\n",
       "      <th>automatic_transmission_classes</th>\n",
       "      <th>air_conditioner_classes</th>\n",
       "      <th>power_steering_classes</th>\n",
       "      <th>remote_control_classes</th>\n",
       "      <th>year</th>\n",
       "      <th>miles</th>\n",
       "      <th>price</th>\n",
       "    </tr>\n",
       "  </thead>\n",
       "  <tbody>\n",
       "    <tr>\n",
       "      <th>0</th>\n",
       "      <td>Kia Sportage 2024</td>\n",
       "      <td>2,800,000 EGP</td>\n",
       "      <td>Dark grey</td>\n",
       "      <td>300 Km</td>\n",
       "      <td>Kia</td>\n",
       "      <td>Sportage</td>\n",
       "      <td>Tagamo3 - New Cairo</td>\n",
       "      <td>2024-02-16</td>\n",
       "      <td>Yes</td>\n",
       "      <td>Yes</td>\n",
       "      <td>...</td>\n",
       "      <td>749</td>\n",
       "      <td>3</td>\n",
       "      <td>0</td>\n",
       "      <td>1</td>\n",
       "      <td>1</td>\n",
       "      <td>1</td>\n",
       "      <td>1</td>\n",
       "      <td>2024.0</td>\n",
       "      <td>300.0</td>\n",
       "      <td>2800000.0</td>\n",
       "    </tr>\n",
       "    <tr>\n",
       "      <th>1</th>\n",
       "      <td>Chery Arrizo 5 2022</td>\n",
       "      <td>NaN</td>\n",
       "      <td>Bronze</td>\n",
       "      <td>86,000 Km</td>\n",
       "      <td>Chery</td>\n",
       "      <td>Arrizo 5</td>\n",
       "      <td>Nasr city</td>\n",
       "      <td>2024-02-16</td>\n",
       "      <td>Yes</td>\n",
       "      <td>Yes</td>\n",
       "      <td>...</td>\n",
       "      <td>189</td>\n",
       "      <td>94</td>\n",
       "      <td>13</td>\n",
       "      <td>1</td>\n",
       "      <td>1</td>\n",
       "      <td>1</td>\n",
       "      <td>1</td>\n",
       "      <td>2022.0</td>\n",
       "      <td>86000.0</td>\n",
       "      <td>NaN</td>\n",
       "    </tr>\n",
       "    <tr>\n",
       "      <th>2</th>\n",
       "      <td>Fiat Tipo 2021</td>\n",
       "      <td>1,200,000 EGP</td>\n",
       "      <td>Petroleum</td>\n",
       "      <td>131,000 Km</td>\n",
       "      <td>Fiat</td>\n",
       "      <td>Tipo</td>\n",
       "      <td>Kafr el-Dawwar</td>\n",
       "      <td>2024-02-16</td>\n",
       "      <td>Yes</td>\n",
       "      <td>Yes</td>\n",
       "      <td>...</td>\n",
       "      <td>337</td>\n",
       "      <td>28</td>\n",
       "      <td>5</td>\n",
       "      <td>1</td>\n",
       "      <td>1</td>\n",
       "      <td>1</td>\n",
       "      <td>1</td>\n",
       "      <td>2021.0</td>\n",
       "      <td>131000.0</td>\n",
       "      <td>1200000.0</td>\n",
       "    </tr>\n",
       "    <tr>\n",
       "      <th>3</th>\n",
       "      <td>Hyundai Tucson Turbo GDI 2021</td>\n",
       "      <td>2,050,000 EGP</td>\n",
       "      <td>Black</td>\n",
       "      <td>125,000 Km</td>\n",
       "      <td>Hyundai</td>\n",
       "      <td>Tucson Turbo GDI</td>\n",
       "      <td>Nasr city</td>\n",
       "      <td>2024-02-16</td>\n",
       "      <td>Yes</td>\n",
       "      <td>Yes</td>\n",
       "      <td>...</td>\n",
       "      <td>138</td>\n",
       "      <td>7</td>\n",
       "      <td>3</td>\n",
       "      <td>1</td>\n",
       "      <td>1</td>\n",
       "      <td>1</td>\n",
       "      <td>1</td>\n",
       "      <td>2021.0</td>\n",
       "      <td>125000.0</td>\n",
       "      <td>2050000.0</td>\n",
       "    </tr>\n",
       "    <tr>\n",
       "      <th>4</th>\n",
       "      <td>BMW X1 2018</td>\n",
       "      <td>2,050,000 EGP</td>\n",
       "      <td>Gray</td>\n",
       "      <td>84,000 Km</td>\n",
       "      <td>BMW</td>\n",
       "      <td>X1</td>\n",
       "      <td>Cairo</td>\n",
       "      <td>2024-02-16</td>\n",
       "      <td>Yes</td>\n",
       "      <td>Yes</td>\n",
       "      <td>...</td>\n",
       "      <td>12</td>\n",
       "      <td>17</td>\n",
       "      <td>15</td>\n",
       "      <td>1</td>\n",
       "      <td>1</td>\n",
       "      <td>1</td>\n",
       "      <td>1</td>\n",
       "      <td>2018.0</td>\n",
       "      <td>84000.0</td>\n",
       "      <td>2050000.0</td>\n",
       "    </tr>\n",
       "  </tbody>\n",
       "</table>\n",
       "<p>5 rows × 23 columns</p>\n",
       "</div>"
      ],
      "text/plain": [
       "                            Name          Price      Color     Mileage  \\\n",
       "0              Kia Sportage 2024  2,800,000 EGP  Dark grey      300 Km   \n",
       "1            Chery Arrizo 5 2022            NaN     Bronze   86,000 Km   \n",
       "2                 Fiat Tipo 2021  1,200,000 EGP  Petroleum  131,000 Km   \n",
       "3  Hyundai Tucson Turbo GDI 2021  2,050,000 EGP      Black  125,000 Km   \n",
       "4                    BMW X1 2018  2,050,000 EGP       Gray   84,000 Km   \n",
       "\n",
       "      Make             Model                 City Date Displayed  \\\n",
       "0      Kia          Sportage  Tagamo3 - New Cairo     2024-02-16   \n",
       "1    Chery          Arrizo 5            Nasr city     2024-02-16   \n",
       "2     Fiat              Tipo       Kafr el-Dawwar     2024-02-16   \n",
       "3  Hyundai  Tucson Turbo GDI            Nasr city     2024-02-16   \n",
       "4      BMW                X1                Cairo     2024-02-16   \n",
       "\n",
       "  Automatic Transmission Air Conditioner  ... car_model_classes  \\\n",
       "0                    Yes             Yes  ...               749   \n",
       "1                    Yes             Yes  ...               189   \n",
       "2                    Yes             Yes  ...               337   \n",
       "3                    Yes             Yes  ...               138   \n",
       "4                    Yes             Yes  ...                12   \n",
       "\n",
       "  car_brand_classes color_classes  automatic_transmission_classes  \\\n",
       "0                 3             0                               1   \n",
       "1                94            13                               1   \n",
       "2                28             5                               1   \n",
       "3                 7             3                               1   \n",
       "4                17            15                               1   \n",
       "\n",
       "   air_conditioner_classes  power_steering_classes  remote_control_classes  \\\n",
       "0                        1                       1                       1   \n",
       "1                        1                       1                       1   \n",
       "2                        1                       1                       1   \n",
       "3                        1                       1                       1   \n",
       "4                        1                       1                       1   \n",
       "\n",
       "     year     miles      price  \n",
       "0  2024.0     300.0  2800000.0  \n",
       "1  2022.0   86000.0        NaN  \n",
       "2  2021.0  131000.0  1200000.0  \n",
       "3  2021.0  125000.0  2050000.0  \n",
       "4  2018.0   84000.0  2050000.0  \n",
       "\n",
       "[5 rows x 23 columns]"
      ]
     },
     "execution_count": 118,
     "metadata": {},
     "output_type": "execute_result"
    }
   ],
   "source": [
    "data.head()"
   ]
  },
  {
   "cell_type": "markdown",
   "id": "5692c1ce-e2bb-47ca-92ac-049f2292c278",
   "metadata": {},
   "source": [
    "# Feature Extraction"
   ]
  },
  {
   "cell_type": "markdown",
   "id": "a1817ecd-9cd0-4078-8d29-1e9a633050e0",
   "metadata": {},
   "source": [
    "### Extract car production year from Name"
   ]
  },
  {
   "cell_type": "code",
   "execution_count": 109,
   "id": "fa77ef00-5023-4734-ba13-9a8d0c575683",
   "metadata": {},
   "outputs": [
    {
     "data": {
      "text/plain": [
       "0"
      ]
     },
     "execution_count": 109,
     "metadata": {},
     "output_type": "execute_result"
    }
   ],
   "source": [
    "data['Name'].isna().sum()"
   ]
  },
  {
   "cell_type": "code",
   "execution_count": 166,
   "id": "ed74d347-907a-4b6e-a92a-d52b252e67ee",
   "metadata": {},
   "outputs": [
    {
     "name": "stdout",
     "output_type": "stream",
     "text": [
      "data[year] min = 1963.0 ** data[year] max = 2024.0\n",
      "data[year] nulls sum = 1\n"
     ]
    }
   ],
   "source": [
    "def extract_year(y):\n",
    "    temp = y.split()\n",
    "    temp = temp[len(temp)-1]\n",
    "    return int(temp)\n",
    "\n",
    "data['year'] = data['Name'].apply(extract_year)\n",
    "\n",
    "for n,i in enumerate(data['year']) :\n",
    "    if i < 1886 or i > 2025 :\n",
    "        data['year'][n] = np.nan\n",
    "        \n",
    "print('data[year] min =',data['year'].min(),'**','data[year] max =',data['year'].max())\n",
    "print('data[year] nulls sum =',data['year'].isna().sum())"
   ]
  },
  {
   "cell_type": "markdown",
   "id": "9a506427-6192-4f67-8936-b42ce9a8f983",
   "metadata": {},
   "source": [
    "### Extract miles form Mileage"
   ]
  },
  {
   "cell_type": "code",
   "execution_count": 167,
   "id": "7508b6a2-15c9-4f30-8e6a-058383a51043",
   "metadata": {},
   "outputs": [
    {
     "data": {
      "text/plain": [
       "2119"
      ]
     },
     "execution_count": 167,
     "metadata": {},
     "output_type": "execute_result"
    }
   ],
   "source": [
    "data['Mileage'].isna().sum()"
   ]
  },
  {
   "cell_type": "code",
   "execution_count": 168,
   "id": "0a2d20b1-1134-425c-88ad-f8bf7c8834a7",
   "metadata": {},
   "outputs": [
    {
     "name": "stdout",
     "output_type": "stream",
     "text": [
      "data[miles] min = 0.0 ** data[miles] max = 2226000.0\n",
      "data[miles] nulls sum = 2119\n"
     ]
    }
   ],
   "source": [
    "def extract_miles(x):\n",
    "    if isinstance(x,str):\n",
    "        x = x.split()[0]\n",
    "        x = x.replace(',','')\n",
    "    try :\n",
    "        return int(x)\n",
    "    except :\n",
    "        return x\n",
    "    \n",
    "data['miles'] = data['Mileage'].apply(lambda x:extract_miles(x))\n",
    "\n",
    "print('data[miles] min =',data['miles'].min(),'**','data[miles] max =',data['miles'].max())\n",
    "print('data[miles] nulls sum =',data['miles'].isna().sum())"
   ]
  },
  {
   "cell_type": "markdown",
   "id": "e8045395-6514-4ec5-89fa-6879692a6dea",
   "metadata": {},
   "source": [
    "### Extract Price"
   ]
  },
  {
   "cell_type": "code",
   "execution_count": 169,
   "id": "28db0530-b63b-41d3-b288-0fbf08c6dd87",
   "metadata": {},
   "outputs": [
    {
     "data": {
      "text/plain": [
       "934"
      ]
     },
     "execution_count": 169,
     "metadata": {},
     "output_type": "execute_result"
    }
   ],
   "source": [
    "data['Price'].isna().sum()"
   ]
  },
  {
   "cell_type": "code",
   "execution_count": 170,
   "id": "f01c32c0-c248-41b0-8915-bc15f659277e",
   "metadata": {},
   "outputs": [
    {
     "name": "stdout",
     "output_type": "stream",
     "text": [
      "data[price] min = 1060.0 ** data[price] max = 20000000.0\n",
      "data[price] nulls sum = 934\n"
     ]
    }
   ],
   "source": [
    "def extract_price(x):\n",
    "    if isinstance(x,str):\n",
    "        x = x.split()[0]\n",
    "        x = x.replace(',','')\n",
    "    try :\n",
    "        return int(x)\n",
    "    except :\n",
    "        return x\n",
    "        \n",
    "data['price'] = data['Price'].apply(lambda x:extract_price(x))\n",
    "\n",
    "print('data[price] min =',data['price'].min(),'**','data[price] max =',data['price'].max())\n",
    "print('data[price] nulls sum =',data['price'].isna().sum())"
   ]
  },
  {
   "cell_type": "code",
   "execution_count": 171,
   "id": "d1e7a4fb-57d0-43e5-a296-9357c3e35967",
   "metadata": {},
   "outputs": [
    {
     "data": {
      "text/html": [
       "<div>\n",
       "<style scoped>\n",
       "    .dataframe tbody tr th:only-of-type {\n",
       "        vertical-align: middle;\n",
       "    }\n",
       "\n",
       "    .dataframe tbody tr th {\n",
       "        vertical-align: top;\n",
       "    }\n",
       "\n",
       "    .dataframe thead th {\n",
       "        text-align: right;\n",
       "    }\n",
       "</style>\n",
       "<table border=\"1\" class=\"dataframe\">\n",
       "  <thead>\n",
       "    <tr style=\"text-align: right;\">\n",
       "      <th></th>\n",
       "      <th>Name</th>\n",
       "      <th>Price</th>\n",
       "      <th>Color</th>\n",
       "      <th>Mileage</th>\n",
       "      <th>Make</th>\n",
       "      <th>Model</th>\n",
       "      <th>City</th>\n",
       "      <th>Date Displayed</th>\n",
       "      <th>Automatic Transmission</th>\n",
       "      <th>Air Conditioner</th>\n",
       "      <th>...</th>\n",
       "      <th>car_model_classes</th>\n",
       "      <th>car_brand_classes</th>\n",
       "      <th>color_classes</th>\n",
       "      <th>automatic_transmission_classes</th>\n",
       "      <th>air_conditioner_classes</th>\n",
       "      <th>power_steering_classes</th>\n",
       "      <th>remote_control_classes</th>\n",
       "      <th>year</th>\n",
       "      <th>miles</th>\n",
       "      <th>price</th>\n",
       "    </tr>\n",
       "  </thead>\n",
       "  <tbody>\n",
       "    <tr>\n",
       "      <th>0</th>\n",
       "      <td>Kia Sportage 2024</td>\n",
       "      <td>2,800,000 EGP</td>\n",
       "      <td>Dark grey</td>\n",
       "      <td>300 Km</td>\n",
       "      <td>Kia</td>\n",
       "      <td>Sportage</td>\n",
       "      <td>Tagamo3 - New Cairo</td>\n",
       "      <td>2024-02-16</td>\n",
       "      <td>Yes</td>\n",
       "      <td>Yes</td>\n",
       "      <td>...</td>\n",
       "      <td>749</td>\n",
       "      <td>3</td>\n",
       "      <td>0</td>\n",
       "      <td>1</td>\n",
       "      <td>1</td>\n",
       "      <td>1</td>\n",
       "      <td>1</td>\n",
       "      <td>2024.0</td>\n",
       "      <td>300.0</td>\n",
       "      <td>2800000.0</td>\n",
       "    </tr>\n",
       "    <tr>\n",
       "      <th>1</th>\n",
       "      <td>Chery Arrizo 5 2022</td>\n",
       "      <td>NaN</td>\n",
       "      <td>Bronze</td>\n",
       "      <td>86,000 Km</td>\n",
       "      <td>Chery</td>\n",
       "      <td>Arrizo 5</td>\n",
       "      <td>Nasr city</td>\n",
       "      <td>2024-02-16</td>\n",
       "      <td>Yes</td>\n",
       "      <td>Yes</td>\n",
       "      <td>...</td>\n",
       "      <td>189</td>\n",
       "      <td>94</td>\n",
       "      <td>13</td>\n",
       "      <td>1</td>\n",
       "      <td>1</td>\n",
       "      <td>1</td>\n",
       "      <td>1</td>\n",
       "      <td>2022.0</td>\n",
       "      <td>86000.0</td>\n",
       "      <td>NaN</td>\n",
       "    </tr>\n",
       "    <tr>\n",
       "      <th>2</th>\n",
       "      <td>Fiat Tipo 2021</td>\n",
       "      <td>1,200,000 EGP</td>\n",
       "      <td>Petroleum</td>\n",
       "      <td>131,000 Km</td>\n",
       "      <td>Fiat</td>\n",
       "      <td>Tipo</td>\n",
       "      <td>Kafr el-Dawwar</td>\n",
       "      <td>2024-02-16</td>\n",
       "      <td>Yes</td>\n",
       "      <td>Yes</td>\n",
       "      <td>...</td>\n",
       "      <td>337</td>\n",
       "      <td>28</td>\n",
       "      <td>5</td>\n",
       "      <td>1</td>\n",
       "      <td>1</td>\n",
       "      <td>1</td>\n",
       "      <td>1</td>\n",
       "      <td>2021.0</td>\n",
       "      <td>131000.0</td>\n",
       "      <td>1200000.0</td>\n",
       "    </tr>\n",
       "    <tr>\n",
       "      <th>3</th>\n",
       "      <td>Hyundai Tucson Turbo GDI 2021</td>\n",
       "      <td>2,050,000 EGP</td>\n",
       "      <td>Black</td>\n",
       "      <td>125,000 Km</td>\n",
       "      <td>Hyundai</td>\n",
       "      <td>Tucson Turbo GDI</td>\n",
       "      <td>Nasr city</td>\n",
       "      <td>2024-02-16</td>\n",
       "      <td>Yes</td>\n",
       "      <td>Yes</td>\n",
       "      <td>...</td>\n",
       "      <td>138</td>\n",
       "      <td>7</td>\n",
       "      <td>3</td>\n",
       "      <td>1</td>\n",
       "      <td>1</td>\n",
       "      <td>1</td>\n",
       "      <td>1</td>\n",
       "      <td>2021.0</td>\n",
       "      <td>125000.0</td>\n",
       "      <td>2050000.0</td>\n",
       "    </tr>\n",
       "    <tr>\n",
       "      <th>4</th>\n",
       "      <td>BMW X1 2018</td>\n",
       "      <td>2,050,000 EGP</td>\n",
       "      <td>Gray</td>\n",
       "      <td>84,000 Km</td>\n",
       "      <td>BMW</td>\n",
       "      <td>X1</td>\n",
       "      <td>Cairo</td>\n",
       "      <td>2024-02-16</td>\n",
       "      <td>Yes</td>\n",
       "      <td>Yes</td>\n",
       "      <td>...</td>\n",
       "      <td>12</td>\n",
       "      <td>17</td>\n",
       "      <td>15</td>\n",
       "      <td>1</td>\n",
       "      <td>1</td>\n",
       "      <td>1</td>\n",
       "      <td>1</td>\n",
       "      <td>2018.0</td>\n",
       "      <td>84000.0</td>\n",
       "      <td>2050000.0</td>\n",
       "    </tr>\n",
       "  </tbody>\n",
       "</table>\n",
       "<p>5 rows × 23 columns</p>\n",
       "</div>"
      ],
      "text/plain": [
       "                            Name          Price      Color     Mileage  \\\n",
       "0              Kia Sportage 2024  2,800,000 EGP  Dark grey      300 Km   \n",
       "1            Chery Arrizo 5 2022            NaN     Bronze   86,000 Km   \n",
       "2                 Fiat Tipo 2021  1,200,000 EGP  Petroleum  131,000 Km   \n",
       "3  Hyundai Tucson Turbo GDI 2021  2,050,000 EGP      Black  125,000 Km   \n",
       "4                    BMW X1 2018  2,050,000 EGP       Gray   84,000 Km   \n",
       "\n",
       "      Make             Model                 City Date Displayed  \\\n",
       "0      Kia          Sportage  Tagamo3 - New Cairo     2024-02-16   \n",
       "1    Chery          Arrizo 5            Nasr city     2024-02-16   \n",
       "2     Fiat              Tipo       Kafr el-Dawwar     2024-02-16   \n",
       "3  Hyundai  Tucson Turbo GDI            Nasr city     2024-02-16   \n",
       "4      BMW                X1                Cairo     2024-02-16   \n",
       "\n",
       "  Automatic Transmission Air Conditioner  ... car_model_classes  \\\n",
       "0                    Yes             Yes  ...               749   \n",
       "1                    Yes             Yes  ...               189   \n",
       "2                    Yes             Yes  ...               337   \n",
       "3                    Yes             Yes  ...               138   \n",
       "4                    Yes             Yes  ...                12   \n",
       "\n",
       "  car_brand_classes color_classes  automatic_transmission_classes  \\\n",
       "0                 3             0                               1   \n",
       "1                94            13                               1   \n",
       "2                28             5                               1   \n",
       "3                 7             3                               1   \n",
       "4                17            15                               1   \n",
       "\n",
       "   air_conditioner_classes  power_steering_classes  remote_control_classes  \\\n",
       "0                        1                       1                       1   \n",
       "1                        1                       1                       1   \n",
       "2                        1                       1                       1   \n",
       "3                        1                       1                       1   \n",
       "4                        1                       1                       1   \n",
       "\n",
       "     year     miles      price  \n",
       "0  2024.0     300.0  2800000.0  \n",
       "1  2022.0   86000.0        NaN  \n",
       "2  2021.0  131000.0  1200000.0  \n",
       "3  2021.0  125000.0  2050000.0  \n",
       "4  2018.0   84000.0  2050000.0  \n",
       "\n",
       "[5 rows x 23 columns]"
      ]
     },
     "execution_count": 171,
     "metadata": {},
     "output_type": "execute_result"
    }
   ],
   "source": [
    "data.head()"
   ]
  },
  {
   "cell_type": "markdown",
   "id": "181d1ad1-bb55-4bc2-91de-b8fc5a29d096",
   "metadata": {},
   "source": [
    "## Discarding unneeded features"
   ]
  },
  {
   "cell_type": "code",
   "execution_count": 351,
   "id": "60303900-297c-4299-8fa2-31a3eb18a37a",
   "metadata": {},
   "outputs": [
    {
     "data": {
      "text/html": [
       "<div>\n",
       "<style scoped>\n",
       "    .dataframe tbody tr th:only-of-type {\n",
       "        vertical-align: middle;\n",
       "    }\n",
       "\n",
       "    .dataframe tbody tr th {\n",
       "        vertical-align: top;\n",
       "    }\n",
       "\n",
       "    .dataframe thead th {\n",
       "        text-align: right;\n",
       "    }\n",
       "</style>\n",
       "<table border=\"1\" class=\"dataframe\">\n",
       "  <thead>\n",
       "    <tr style=\"text-align: right;\">\n",
       "      <th></th>\n",
       "      <th>car_model_classes</th>\n",
       "      <th>car_brand_classes</th>\n",
       "      <th>color_classes</th>\n",
       "      <th>automatic_transmission_classes</th>\n",
       "      <th>air_conditioner_classes</th>\n",
       "      <th>power_steering_classes</th>\n",
       "      <th>remote_control_classes</th>\n",
       "      <th>year</th>\n",
       "      <th>miles</th>\n",
       "      <th>price</th>\n",
       "    </tr>\n",
       "  </thead>\n",
       "  <tbody>\n",
       "    <tr>\n",
       "      <th>0</th>\n",
       "      <td>749</td>\n",
       "      <td>3</td>\n",
       "      <td>0</td>\n",
       "      <td>1</td>\n",
       "      <td>1</td>\n",
       "      <td>1</td>\n",
       "      <td>1</td>\n",
       "      <td>2024.0</td>\n",
       "      <td>300.0</td>\n",
       "      <td>2800000.0</td>\n",
       "    </tr>\n",
       "    <tr>\n",
       "      <th>1</th>\n",
       "      <td>189</td>\n",
       "      <td>94</td>\n",
       "      <td>13</td>\n",
       "      <td>1</td>\n",
       "      <td>1</td>\n",
       "      <td>1</td>\n",
       "      <td>1</td>\n",
       "      <td>2022.0</td>\n",
       "      <td>86000.0</td>\n",
       "      <td>NaN</td>\n",
       "    </tr>\n",
       "    <tr>\n",
       "      <th>2</th>\n",
       "      <td>337</td>\n",
       "      <td>28</td>\n",
       "      <td>5</td>\n",
       "      <td>1</td>\n",
       "      <td>1</td>\n",
       "      <td>1</td>\n",
       "      <td>1</td>\n",
       "      <td>2021.0</td>\n",
       "      <td>131000.0</td>\n",
       "      <td>1200000.0</td>\n",
       "    </tr>\n",
       "    <tr>\n",
       "      <th>3</th>\n",
       "      <td>138</td>\n",
       "      <td>7</td>\n",
       "      <td>3</td>\n",
       "      <td>1</td>\n",
       "      <td>1</td>\n",
       "      <td>1</td>\n",
       "      <td>1</td>\n",
       "      <td>2021.0</td>\n",
       "      <td>125000.0</td>\n",
       "      <td>2050000.0</td>\n",
       "    </tr>\n",
       "    <tr>\n",
       "      <th>4</th>\n",
       "      <td>12</td>\n",
       "      <td>17</td>\n",
       "      <td>15</td>\n",
       "      <td>1</td>\n",
       "      <td>1</td>\n",
       "      <td>1</td>\n",
       "      <td>1</td>\n",
       "      <td>2018.0</td>\n",
       "      <td>84000.0</td>\n",
       "      <td>2050000.0</td>\n",
       "    </tr>\n",
       "  </tbody>\n",
       "</table>\n",
       "</div>"
      ],
      "text/plain": [
       "   car_model_classes  car_brand_classes  color_classes  \\\n",
       "0                749                  3              0   \n",
       "1                189                 94             13   \n",
       "2                337                 28              5   \n",
       "3                138                  7              3   \n",
       "4                 12                 17             15   \n",
       "\n",
       "   automatic_transmission_classes  air_conditioner_classes  \\\n",
       "0                               1                        1   \n",
       "1                               1                        1   \n",
       "2                               1                        1   \n",
       "3                               1                        1   \n",
       "4                               1                        1   \n",
       "\n",
       "   power_steering_classes  remote_control_classes    year     miles      price  \n",
       "0                       1                       1  2024.0     300.0  2800000.0  \n",
       "1                       1                       1  2022.0   86000.0        NaN  \n",
       "2                       1                       1  2021.0  131000.0  1200000.0  \n",
       "3                       1                       1  2021.0  125000.0  2050000.0  \n",
       "4                       1                       1  2018.0   84000.0  2050000.0  "
      ]
     },
     "execution_count": 351,
     "metadata": {},
     "output_type": "execute_result"
    }
   ],
   "source": [
    "clear_data = data.drop(['Name','Price','Color','Mileage','Make','Model','City','Item URL','Date Displayed',\n",
    "                        'Automatic Transmission','Air Conditioner','Power Steering','Remote Control'],axis=1)\n",
    "clear_data.head()"
   ]
  },
  {
   "cell_type": "markdown",
   "id": "696ee1ea-bd6e-4aff-991d-a09c90ea3adc",
   "metadata": {},
   "source": [
    "## Handling Nulls"
   ]
  },
  {
   "cell_type": "code",
   "execution_count": 352,
   "id": "d84f3ee8-9aca-4b0d-ba39-f6290f207bb4",
   "metadata": {},
   "outputs": [
    {
     "data": {
      "text/plain": [
       "car_model_classes                    0\n",
       "car_brand_classes                    0\n",
       "color_classes                        0\n",
       "automatic_transmission_classes       0\n",
       "air_conditioner_classes              0\n",
       "power_steering_classes               0\n",
       "remote_control_classes               0\n",
       "year                                 1\n",
       "miles                             2119\n",
       "price                              934\n",
       "dtype: int64"
      ]
     },
     "execution_count": 352,
     "metadata": {},
     "output_type": "execute_result"
    }
   ],
   "source": [
    "clear_data.isna().sum()"
   ]
  },
  {
   "cell_type": "markdown",
   "id": "f9342f1d-dd27-49f0-943b-02e86e464699",
   "metadata": {},
   "source": [
    "### Replace miles nulls by median"
   ]
  },
  {
   "cell_type": "code",
   "execution_count": 353,
   "id": "674da3af-c3cd-4a08-bfa2-de7515961155",
   "metadata": {},
   "outputs": [
    {
     "name": "stdout",
     "output_type": "stream",
     "text": [
      "clear_data[miles] nulls sum = 0\n",
      "clear_data[miles] min = 0.0 ** clear_data[miles] max = 2226000.0\n"
     ]
    }
   ],
   "source": [
    "clear_data['miles'] = clear_data['miles'].fillna(clear_data['miles'].median())\n",
    "\n",
    "print('clear_data[miles] nulls sum =',clear_data['miles'].isna().sum())\n",
    "print('clear_data[miles] min =',clear_data['miles'].min(),'**','clear_data[miles] max =',clear_data['miles'].max())"
   ]
  },
  {
   "cell_type": "markdown",
   "id": "87be83c0-1d4b-4b05-a508-bb72287828ff",
   "metadata": {},
   "source": [
    "### Replace price nulls by mean"
   ]
  },
  {
   "cell_type": "code",
   "execution_count": 354,
   "id": "db65c5ae-1de4-43b0-a7fe-cf1b0aeca898",
   "metadata": {},
   "outputs": [
    {
     "name": "stdout",
     "output_type": "stream",
     "text": [
      "clear_data[price] nulls sum = 0\n",
      "clear_data[price] min = 1060.0 ** clear_data[price] max = 2226000.0\n"
     ]
    }
   ],
   "source": [
    "clear_data['price'] = clear_data['price'].fillna(clear_data['price'].mean())\n",
    "\n",
    "print('clear_data[price] nulls sum =',clear_data['price'].isna().sum())\n",
    "print('clear_data[price] min =',clear_data['price'].min(),'**','clear_data[price] max =',clear_data['miles'].max())"
   ]
  },
  {
   "cell_type": "code",
   "execution_count": 355,
   "id": "cf927607-1d8b-4e2a-9e71-b9ec72526e18",
   "metadata": {},
   "outputs": [
    {
     "data": {
      "text/plain": [
       "car_model_classes                 0\n",
       "car_brand_classes                 0\n",
       "color_classes                     0\n",
       "automatic_transmission_classes    0\n",
       "air_conditioner_classes           0\n",
       "power_steering_classes            0\n",
       "remote_control_classes            0\n",
       "year                              1\n",
       "miles                             0\n",
       "price                             0\n",
       "dtype: int64"
      ]
     },
     "execution_count": 355,
     "metadata": {},
     "output_type": "execute_result"
    }
   ],
   "source": [
    "clear_data.isna().sum()"
   ]
  },
  {
   "cell_type": "code",
   "execution_count": 356,
   "id": "cbeae9a6-a11e-404b-bbd0-dc3bb9be82c4",
   "metadata": {},
   "outputs": [
    {
     "data": {
      "text/plain": [
       "car_model_classes                 0\n",
       "car_brand_classes                 0\n",
       "color_classes                     0\n",
       "automatic_transmission_classes    0\n",
       "air_conditioner_classes           0\n",
       "power_steering_classes            0\n",
       "remote_control_classes            0\n",
       "year                              0\n",
       "miles                             0\n",
       "price                             0\n",
       "dtype: int64"
      ]
     },
     "execution_count": 356,
     "metadata": {},
     "output_type": "execute_result"
    }
   ],
   "source": [
    "clear_data.dropna(inplace=True)\n",
    "clear_data.isna().sum()"
   ]
  },
  {
   "cell_type": "markdown",
   "id": "49e78f55-7b66-4b86-9e23-097970419102",
   "metadata": {},
   "source": [
    "## Handling Outliers"
   ]
  },
  {
   "cell_type": "code",
   "execution_count": 357,
   "id": "a40ebd80-724c-416e-bec4-6d32c2001930",
   "metadata": {},
   "outputs": [
    {
     "data": {
      "text/html": [
       "<div>\n",
       "<style scoped>\n",
       "    .dataframe tbody tr th:only-of-type {\n",
       "        vertical-align: middle;\n",
       "    }\n",
       "\n",
       "    .dataframe tbody tr th {\n",
       "        vertical-align: top;\n",
       "    }\n",
       "\n",
       "    .dataframe thead th {\n",
       "        text-align: right;\n",
       "    }\n",
       "</style>\n",
       "<table border=\"1\" class=\"dataframe\">\n",
       "  <thead>\n",
       "    <tr style=\"text-align: right;\">\n",
       "      <th></th>\n",
       "      <th>car_model_classes</th>\n",
       "      <th>car_brand_classes</th>\n",
       "      <th>color_classes</th>\n",
       "      <th>automatic_transmission_classes</th>\n",
       "      <th>air_conditioner_classes</th>\n",
       "      <th>power_steering_classes</th>\n",
       "      <th>remote_control_classes</th>\n",
       "      <th>year</th>\n",
       "      <th>miles</th>\n",
       "      <th>price</th>\n",
       "    </tr>\n",
       "  </thead>\n",
       "  <tbody>\n",
       "    <tr>\n",
       "      <th>count</th>\n",
       "      <td>33558.000000</td>\n",
       "      <td>33558.000000</td>\n",
       "      <td>33558.000000</td>\n",
       "      <td>33558.000000</td>\n",
       "      <td>33558.000000</td>\n",
       "      <td>33558.000000</td>\n",
       "      <td>33558.000000</td>\n",
       "      <td>33558.000000</td>\n",
       "      <td>3.355800e+04</td>\n",
       "      <td>3.355800e+04</td>\n",
       "    </tr>\n",
       "    <tr>\n",
       "      <th>mean</th>\n",
       "      <td>445.641904</td>\n",
       "      <td>43.894749</td>\n",
       "      <td>8.824751</td>\n",
       "      <td>0.634394</td>\n",
       "      <td>0.615144</td>\n",
       "      <td>0.549794</td>\n",
       "      <td>0.574021</td>\n",
       "      <td>2014.324662</td>\n",
       "      <td>1.489314e+05</td>\n",
       "      <td>9.545115e+05</td>\n",
       "    </tr>\n",
       "    <tr>\n",
       "      <th>std</th>\n",
       "      <td>267.389689</td>\n",
       "      <td>30.303738</td>\n",
       "      <td>6.317735</td>\n",
       "      <td>0.481607</td>\n",
       "      <td>0.486569</td>\n",
       "      <td>0.497522</td>\n",
       "      <td>0.494498</td>\n",
       "      <td>8.323756</td>\n",
       "      <td>2.095695e+05</td>\n",
       "      <td>1.071499e+06</td>\n",
       "    </tr>\n",
       "    <tr>\n",
       "      <th>min</th>\n",
       "      <td>0.000000</td>\n",
       "      <td>0.000000</td>\n",
       "      <td>0.000000</td>\n",
       "      <td>0.000000</td>\n",
       "      <td>0.000000</td>\n",
       "      <td>0.000000</td>\n",
       "      <td>0.000000</td>\n",
       "      <td>1963.000000</td>\n",
       "      <td>0.000000e+00</td>\n",
       "      <td>1.060000e+03</td>\n",
       "    </tr>\n",
       "    <tr>\n",
       "      <th>25%</th>\n",
       "      <td>197.000000</td>\n",
       "      <td>10.000000</td>\n",
       "      <td>3.000000</td>\n",
       "      <td>0.000000</td>\n",
       "      <td>0.000000</td>\n",
       "      <td>0.000000</td>\n",
       "      <td>0.000000</td>\n",
       "      <td>2010.000000</td>\n",
       "      <td>7.300000e+04</td>\n",
       "      <td>3.950000e+05</td>\n",
       "    </tr>\n",
       "    <tr>\n",
       "      <th>50%</th>\n",
       "      <td>410.000000</td>\n",
       "      <td>43.000000</td>\n",
       "      <td>10.000000</td>\n",
       "      <td>1.000000</td>\n",
       "      <td>1.000000</td>\n",
       "      <td>1.000000</td>\n",
       "      <td>1.000000</td>\n",
       "      <td>2016.000000</td>\n",
       "      <td>1.260000e+05</td>\n",
       "      <td>6.700000e+05</td>\n",
       "    </tr>\n",
       "    <tr>\n",
       "      <th>75%</th>\n",
       "      <td>720.000000</td>\n",
       "      <td>70.000000</td>\n",
       "      <td>15.000000</td>\n",
       "      <td>1.000000</td>\n",
       "      <td>1.000000</td>\n",
       "      <td>1.000000</td>\n",
       "      <td>1.000000</td>\n",
       "      <td>2021.000000</td>\n",
       "      <td>1.800000e+05</td>\n",
       "      <td>1.050000e+06</td>\n",
       "    </tr>\n",
       "    <tr>\n",
       "      <th>max</th>\n",
       "      <td>888.000000</td>\n",
       "      <td>100.000000</td>\n",
       "      <td>23.000000</td>\n",
       "      <td>1.000000</td>\n",
       "      <td>1.000000</td>\n",
       "      <td>1.000000</td>\n",
       "      <td>1.000000</td>\n",
       "      <td>2024.000000</td>\n",
       "      <td>2.226000e+06</td>\n",
       "      <td>2.000000e+07</td>\n",
       "    </tr>\n",
       "  </tbody>\n",
       "</table>\n",
       "</div>"
      ],
      "text/plain": [
       "       car_model_classes  car_brand_classes  color_classes  \\\n",
       "count       33558.000000       33558.000000   33558.000000   \n",
       "mean          445.641904          43.894749       8.824751   \n",
       "std           267.389689          30.303738       6.317735   \n",
       "min             0.000000           0.000000       0.000000   \n",
       "25%           197.000000          10.000000       3.000000   \n",
       "50%           410.000000          43.000000      10.000000   \n",
       "75%           720.000000          70.000000      15.000000   \n",
       "max           888.000000         100.000000      23.000000   \n",
       "\n",
       "       automatic_transmission_classes  air_conditioner_classes  \\\n",
       "count                    33558.000000             33558.000000   \n",
       "mean                         0.634394                 0.615144   \n",
       "std                          0.481607                 0.486569   \n",
       "min                          0.000000                 0.000000   \n",
       "25%                          0.000000                 0.000000   \n",
       "50%                          1.000000                 1.000000   \n",
       "75%                          1.000000                 1.000000   \n",
       "max                          1.000000                 1.000000   \n",
       "\n",
       "       power_steering_classes  remote_control_classes          year  \\\n",
       "count            33558.000000            33558.000000  33558.000000   \n",
       "mean                 0.549794                0.574021   2014.324662   \n",
       "std                  0.497522                0.494498      8.323756   \n",
       "min                  0.000000                0.000000   1963.000000   \n",
       "25%                  0.000000                0.000000   2010.000000   \n",
       "50%                  1.000000                1.000000   2016.000000   \n",
       "75%                  1.000000                1.000000   2021.000000   \n",
       "max                  1.000000                1.000000   2024.000000   \n",
       "\n",
       "              miles         price  \n",
       "count  3.355800e+04  3.355800e+04  \n",
       "mean   1.489314e+05  9.545115e+05  \n",
       "std    2.095695e+05  1.071499e+06  \n",
       "min    0.000000e+00  1.060000e+03  \n",
       "25%    7.300000e+04  3.950000e+05  \n",
       "50%    1.260000e+05  6.700000e+05  \n",
       "75%    1.800000e+05  1.050000e+06  \n",
       "max    2.226000e+06  2.000000e+07  "
      ]
     },
     "execution_count": 357,
     "metadata": {},
     "output_type": "execute_result"
    }
   ],
   "source": [
    "clear_data.describe()"
   ]
  },
  {
   "cell_type": "markdown",
   "id": "5548ca4d-34f2-4d65-a02a-be3a51595099",
   "metadata": {},
   "source": [
    "### Mlies Outliers"
   ]
  },
  {
   "cell_type": "code",
   "execution_count": 358,
   "id": "6e0fed47-1a86-4723-8e4e-6a1e2df81872",
   "metadata": {},
   "outputs": [
    {
     "data": {
      "text/plain": [
       "(0.0, 2226000.0)"
      ]
     },
     "execution_count": 358,
     "metadata": {},
     "output_type": "execute_result"
    }
   ],
   "source": [
    "clear_data['miles'].min(), clear_data['miles'].max()"
   ]
  },
  {
   "cell_type": "markdown",
   "id": "031611fe-ea87-4560-acf8-e82802b5808e",
   "metadata": {},
   "source": [
    "### Detecting Miles Outliers using Z-Score"
   ]
  },
  {
   "cell_type": "code",
   "execution_count": 372,
   "id": "7e3a98bb-f997-4bf7-8d2f-591ead4e5e56",
   "metadata": {},
   "outputs": [
    {
     "name": "stdout",
     "output_type": "stream",
     "text": [
      "outliers range = 600000.0 : 2226000.0\n",
      "num of outlier values in miles = 291\n"
     ]
    }
   ],
   "source": [
    "mean = clear_data['miles'].mean()\n",
    "std = clear_data['miles'].std()\n",
    "threshold = 2\n",
    "\n",
    "outliers = []\n",
    "for i in clear_data['miles']:\n",
    "    z = (i-mean) / std\n",
    "    if z > threshold:\n",
    "        outliers.append(i)\n",
    "        \n",
    "print('outliers range =',min(outliers),':',max(outliers))\n",
    "print('num of outlier values in miles =',len(outliers))"
   ]
  },
  {
   "cell_type": "markdown",
   "id": "36bdaba1-ddeb-4c27-9ee2-d3866ce50599",
   "metadata": {},
   "source": [
    "### Dropout Outliers"
   ]
  },
  {
   "cell_type": "code",
   "execution_count": 377,
   "id": "a5b7391b-ce0b-4736-b5be-c51eef40ba3a",
   "metadata": {},
   "outputs": [
    {
     "data": {
      "text/plain": [
       "(0.0, 600000.0)"
      ]
     },
     "execution_count": 377,
     "metadata": {},
     "output_type": "execute_result"
    }
   ],
   "source": [
    "clear_data = clear_data[(clear_data['miles']<=600000)]\n",
    "clear_data['miles'].min(), clear_data['miles'].max()"
   ]
  },
  {
   "cell_type": "markdown",
   "id": "57827a54-33c7-4e41-aa8a-c2e4fc5f8d38",
   "metadata": {},
   "source": [
    "### Price Outliers"
   ]
  },
  {
   "cell_type": "code",
   "execution_count": 254,
   "id": "ec371f9d-7d03-43d6-bd18-b8c22215de72",
   "metadata": {},
   "outputs": [
    {
     "data": {
      "text/plain": [
       "(1060.0, 20000000.0)"
      ]
     },
     "execution_count": 254,
     "metadata": {},
     "output_type": "execute_result"
    }
   ],
   "source": [
    "clear_data['price'].min(), clear_data['price'].max()"
   ]
  },
  {
   "cell_type": "markdown",
   "id": "99ea87e2-4ae0-4d22-acf7-ee83ac6287f0",
   "metadata": {},
   "source": [
    "### Defining Prices Range Using IQR"
   ]
  },
  {
   "cell_type": "code",
   "execution_count": 397,
   "id": "070ae33f-5784-4bbe-a0d7-76b4c1ff4842",
   "metadata": {},
   "outputs": [
    {
     "name": "stdout",
     "output_type": "stream",
     "text": [
      "prices range = 60000.0 : 5010000.0\n"
     ]
    }
   ],
   "source": [
    "q25, q75 = np.percentile(clear_data['price'], [25,75])\n",
    "intr_qr = q75 - q25\n",
    "min_price = q25 - (intr_qr * 0.5)\n",
    "max_price = q75 + (intr_qr * 6)\n",
    "print('prices range =',min_price,':',max_price)"
   ]
  },
  {
   "cell_type": "code",
   "execution_count": 399,
   "id": "646d05d7-bbea-436f-93c7-c5924ab9bb7a",
   "metadata": {},
   "outputs": [
    {
     "name": "stdout",
     "output_type": "stream",
     "text": [
      "num of outlier values in price = 743\n"
     ]
    }
   ],
   "source": [
    "clear_data[clear_data['price']>max_price] = np.nan\n",
    "clear_data[clear_data['price']<min_price] = np.nan\n",
    "print('num of outlier values in price =',clear_data['price'].isna().sum())"
   ]
  },
  {
   "cell_type": "markdown",
   "id": "e2aaff3d-171b-4c07-b964-ddd5c57d9aa5",
   "metadata": {},
   "source": [
    "### Dropout Outliers"
   ]
  },
  {
   "cell_type": "code",
   "execution_count": 400,
   "id": "3cef31e0-0e95-4108-be28-aac1bc0ceea0",
   "metadata": {},
   "outputs": [
    {
     "data": {
      "text/plain": [
       "car_model_classes                 0\n",
       "car_brand_classes                 0\n",
       "color_classes                     0\n",
       "automatic_transmission_classes    0\n",
       "air_conditioner_classes           0\n",
       "power_steering_classes            0\n",
       "remote_control_classes            0\n",
       "year                              0\n",
       "miles                             0\n",
       "price                             0\n",
       "dtype: int64"
      ]
     },
     "execution_count": 400,
     "metadata": {},
     "output_type": "execute_result"
    }
   ],
   "source": [
    "clear_data.dropna(inplace=True)\n",
    "clear_data.isna().sum()"
   ]
  },
  {
   "cell_type": "code",
   "execution_count": 401,
   "id": "0c998cfc-245c-41e8-b4a1-696b74abc755",
   "metadata": {},
   "outputs": [
    {
     "data": {
      "text/plain": [
       "(32235, 10)"
      ]
     },
     "execution_count": 401,
     "metadata": {},
     "output_type": "execute_result"
    }
   ],
   "source": [
    "clear_data.shape"
   ]
  },
  {
   "cell_type": "code",
   "execution_count": 402,
   "id": "755cd61e-71b0-43d2-be07-86409742cee5",
   "metadata": {},
   "outputs": [
    {
     "data": {
      "text/html": [
       "<div>\n",
       "<style scoped>\n",
       "    .dataframe tbody tr th:only-of-type {\n",
       "        vertical-align: middle;\n",
       "    }\n",
       "\n",
       "    .dataframe tbody tr th {\n",
       "        vertical-align: top;\n",
       "    }\n",
       "\n",
       "    .dataframe thead th {\n",
       "        text-align: right;\n",
       "    }\n",
       "</style>\n",
       "<table border=\"1\" class=\"dataframe\">\n",
       "  <thead>\n",
       "    <tr style=\"text-align: right;\">\n",
       "      <th></th>\n",
       "      <th>car_model_classes</th>\n",
       "      <th>car_brand_classes</th>\n",
       "      <th>color_classes</th>\n",
       "      <th>automatic_transmission_classes</th>\n",
       "      <th>air_conditioner_classes</th>\n",
       "      <th>power_steering_classes</th>\n",
       "      <th>remote_control_classes</th>\n",
       "      <th>year</th>\n",
       "      <th>miles</th>\n",
       "      <th>price</th>\n",
       "    </tr>\n",
       "  </thead>\n",
       "  <tbody>\n",
       "    <tr>\n",
       "      <th>count</th>\n",
       "      <td>32235.000000</td>\n",
       "      <td>32235.000000</td>\n",
       "      <td>32235.000000</td>\n",
       "      <td>32235.000000</td>\n",
       "      <td>32235.000000</td>\n",
       "      <td>32235.000000</td>\n",
       "      <td>32235.000000</td>\n",
       "      <td>32235.000000</td>\n",
       "      <td>32235.000000</td>\n",
       "      <td>3.223500e+04</td>\n",
       "    </tr>\n",
       "    <tr>\n",
       "      <th>mean</th>\n",
       "      <td>450.229006</td>\n",
       "      <td>44.472158</td>\n",
       "      <td>8.635707</td>\n",
       "      <td>0.638219</td>\n",
       "      <td>0.619358</td>\n",
       "      <td>0.551574</td>\n",
       "      <td>0.576299</td>\n",
       "      <td>2014.482798</td>\n",
       "      <td>132137.012719</td>\n",
       "      <td>8.783854e+05</td>\n",
       "    </tr>\n",
       "    <tr>\n",
       "      <th>std</th>\n",
       "      <td>267.780374</td>\n",
       "      <td>30.304879</td>\n",
       "      <td>6.258042</td>\n",
       "      <td>0.480523</td>\n",
       "      <td>0.485552</td>\n",
       "      <td>0.497341</td>\n",
       "      <td>0.494152</td>\n",
       "      <td>7.872328</td>\n",
       "      <td>81136.781904</td>\n",
       "      <td>7.250659e+05</td>\n",
       "    </tr>\n",
       "    <tr>\n",
       "      <th>min</th>\n",
       "      <td>0.000000</td>\n",
       "      <td>0.000000</td>\n",
       "      <td>0.000000</td>\n",
       "      <td>0.000000</td>\n",
       "      <td>0.000000</td>\n",
       "      <td>0.000000</td>\n",
       "      <td>0.000000</td>\n",
       "      <td>1963.000000</td>\n",
       "      <td>0.000000</td>\n",
       "      <td>6.000000e+04</td>\n",
       "    </tr>\n",
       "    <tr>\n",
       "      <th>25%</th>\n",
       "      <td>197.000000</td>\n",
       "      <td>13.000000</td>\n",
       "      <td>3.000000</td>\n",
       "      <td>0.000000</td>\n",
       "      <td>0.000000</td>\n",
       "      <td>0.000000</td>\n",
       "      <td>0.000000</td>\n",
       "      <td>2010.000000</td>\n",
       "      <td>75000.000000</td>\n",
       "      <td>3.950000e+05</td>\n",
       "    </tr>\n",
       "    <tr>\n",
       "      <th>50%</th>\n",
       "      <td>410.000000</td>\n",
       "      <td>43.000000</td>\n",
       "      <td>10.000000</td>\n",
       "      <td>1.000000</td>\n",
       "      <td>1.000000</td>\n",
       "      <td>1.000000</td>\n",
       "      <td>1.000000</td>\n",
       "      <td>2016.000000</td>\n",
       "      <td>126000.000000</td>\n",
       "      <td>6.800000e+05</td>\n",
       "    </tr>\n",
       "    <tr>\n",
       "      <th>75%</th>\n",
       "      <td>724.000000</td>\n",
       "      <td>70.000000</td>\n",
       "      <td>13.000000</td>\n",
       "      <td>1.000000</td>\n",
       "      <td>1.000000</td>\n",
       "      <td>1.000000</td>\n",
       "      <td>1.000000</td>\n",
       "      <td>2021.000000</td>\n",
       "      <td>180000.000000</td>\n",
       "      <td>1.050000e+06</td>\n",
       "    </tr>\n",
       "    <tr>\n",
       "      <th>max</th>\n",
       "      <td>888.000000</td>\n",
       "      <td>100.000000</td>\n",
       "      <td>23.000000</td>\n",
       "      <td>1.000000</td>\n",
       "      <td>1.000000</td>\n",
       "      <td>1.000000</td>\n",
       "      <td>1.000000</td>\n",
       "      <td>2024.000000</td>\n",
       "      <td>600000.000000</td>\n",
       "      <td>5.000000e+06</td>\n",
       "    </tr>\n",
       "  </tbody>\n",
       "</table>\n",
       "</div>"
      ],
      "text/plain": [
       "       car_model_classes  car_brand_classes  color_classes  \\\n",
       "count       32235.000000       32235.000000   32235.000000   \n",
       "mean          450.229006          44.472158       8.635707   \n",
       "std           267.780374          30.304879       6.258042   \n",
       "min             0.000000           0.000000       0.000000   \n",
       "25%           197.000000          13.000000       3.000000   \n",
       "50%           410.000000          43.000000      10.000000   \n",
       "75%           724.000000          70.000000      13.000000   \n",
       "max           888.000000         100.000000      23.000000   \n",
       "\n",
       "       automatic_transmission_classes  air_conditioner_classes  \\\n",
       "count                    32235.000000             32235.000000   \n",
       "mean                         0.638219                 0.619358   \n",
       "std                          0.480523                 0.485552   \n",
       "min                          0.000000                 0.000000   \n",
       "25%                          0.000000                 0.000000   \n",
       "50%                          1.000000                 1.000000   \n",
       "75%                          1.000000                 1.000000   \n",
       "max                          1.000000                 1.000000   \n",
       "\n",
       "       power_steering_classes  remote_control_classes          year  \\\n",
       "count            32235.000000            32235.000000  32235.000000   \n",
       "mean                 0.551574                0.576299   2014.482798   \n",
       "std                  0.497341                0.494152      7.872328   \n",
       "min                  0.000000                0.000000   1963.000000   \n",
       "25%                  0.000000                0.000000   2010.000000   \n",
       "50%                  1.000000                1.000000   2016.000000   \n",
       "75%                  1.000000                1.000000   2021.000000   \n",
       "max                  1.000000                1.000000   2024.000000   \n",
       "\n",
       "               miles         price  \n",
       "count   32235.000000  3.223500e+04  \n",
       "mean   132137.012719  8.783854e+05  \n",
       "std     81136.781904  7.250659e+05  \n",
       "min         0.000000  6.000000e+04  \n",
       "25%     75000.000000  3.950000e+05  \n",
       "50%    126000.000000  6.800000e+05  \n",
       "75%    180000.000000  1.050000e+06  \n",
       "max    600000.000000  5.000000e+06  "
      ]
     },
     "execution_count": 402,
     "metadata": {},
     "output_type": "execute_result"
    }
   ],
   "source": [
    "clear_data.describe()"
   ]
  },
  {
   "cell_type": "code",
   "execution_count": null,
   "id": "f73a4ff4-9209-4062-a68a-cd30cede42c6",
   "metadata": {},
   "outputs": [],
   "source": []
  },
  {
   "cell_type": "markdown",
   "id": "a1cff00b-194a-4663-ae27-61116e61d13a",
   "metadata": {},
   "source": [
    "## Building Model"
   ]
  },
  {
   "cell_type": "markdown",
   "id": "1423e68a-0d75-4005-8557-3973241296a6",
   "metadata": {},
   "source": [
    "### Splitting Data"
   ]
  },
  {
   "cell_type": "code",
   "execution_count": 409,
   "id": "32739016-579d-4931-8dfa-fa42bca51794",
   "metadata": {},
   "outputs": [],
   "source": [
    "X = clear_data.drop(['price'], axis = 1, inplace=False)\n",
    "y = clear_data['price']\n",
    "X_train, X_test, y_train, y_test = train_test_split(X, y, test_size=0.20, random_state=44, shuffle = True)"
   ]
  },
  {
   "cell_type": "code",
   "execution_count": 410,
   "id": "d6f656ab-3021-4248-bd5d-a8816420b11f",
   "metadata": {},
   "outputs": [
    {
     "data": {
      "text/plain": [
       "7579     2.500000e+05\n",
       "25653    1.050000e+06\n",
       "33388    6.400000e+05\n",
       "8193     1.100000e+06\n",
       "660      3.650000e+05\n",
       "17606    8.000000e+04\n",
       "1469     2.400000e+05\n",
       "22646    2.050000e+06\n",
       "17747    5.250000e+05\n",
       "6167     2.850000e+05\n",
       "10629    6.500000e+05\n",
       "14857    1.700000e+06\n",
       "8874     6.500000e+05\n",
       "11050    1.350000e+06\n",
       "26385    3.000000e+06\n",
       "25716    3.000000e+05\n",
       "33323    4.750000e+05\n",
       "33075    3.000000e+06\n",
       "26406    2.050000e+06\n",
       "29083    9.544847e+05\n",
       "Name: price, dtype: float64"
      ]
     },
     "execution_count": 410,
     "metadata": {},
     "output_type": "execute_result"
    }
   ],
   "source": [
    "y_train[:20]"
   ]
  },
  {
   "cell_type": "markdown",
   "id": "074ba8fc-acce-41e7-93f5-2fb3eec68f24",
   "metadata": {},
   "source": [
    "# RandomForest Regressor"
   ]
  },
  {
   "cell_type": "code",
   "execution_count": 418,
   "id": "5cc884f6-0777-46c8-927e-7777641986d1",
   "metadata": {},
   "outputs": [
    {
     "name": "stdout",
     "output_type": "stream",
     "text": [
      "Train Score is : 0.9061465899788046\n",
      "Test Score is : 0.860702802953845\n"
     ]
    }
   ],
   "source": [
    "Regressor = RandomForestRegressor(n_estimators=2100,max_depth=10, random_state=44)\n",
    "Regressor.fit(X_train, y_train)\n",
    "\n",
    "y_pred = Regressor.predict(X_test)\n",
    "\n",
    "print(f'Train Score is : {Regressor.score(X_train, y_train)}')\n",
    "print(f'Test Score is : {Regressor.score(X_test, y_test)}')"
   ]
  },
  {
   "cell_type": "markdown",
   "id": "175888b1-4803-42b5-9a54-5d36336c65bc",
   "metadata": {},
   "source": [
    "## Evaluating Model"
   ]
  },
  {
   "cell_type": "code",
   "execution_count": 482,
   "id": "c80d613e-f4b7-4eda-b51a-a525a592c358",
   "metadata": {},
   "outputs": [
    {
     "name": "stdout",
     "output_type": "stream",
     "text": [
      "Median Absolute Error Value is :  56570.390310971066\n",
      "Mean Absolute Error Value is :  133346.43284368623\n",
      "Mean Squared Error Value is :  72463747981.59692\n"
     ]
    }
   ],
   "source": [
    "MdSEValue = median_absolute_error(y_test, y_pred)\n",
    "print('Median Absolute Error Value is : ', MdSEValue )\n",
    "\n",
    "MAEValue = mean_absolute_error(y_test, y_pred, multioutput='uniform_average')\n",
    "print('Mean Absolute Error Value is : ', MAEValue)\n",
    "\n",
    "MSEValue = mean_squared_error(y_test, y_pred, multioutput='uniform_average')\n",
    "print('Mean Squared Error Value is : ', MSEValue)"
   ]
  },
  {
   "cell_type": "markdown",
   "id": "dff1abf4-9264-464c-90ad-48e56c87877b",
   "metadata": {},
   "source": [
    "## Scatter Graph"
   ]
  },
  {
   "cell_type": "code",
   "execution_count": 480,
   "id": "f7438cc4-4f72-4951-b0e1-cb7c07f9d98c",
   "metadata": {},
   "outputs": [
    {
     "data": {
      "image/png": "[encoded data removed]",
      "text/plain": [
       "<Figure size 1000x600 with 1 Axes>"
      ]
     },
     "metadata": {},
     "output_type": "display_data"
    }
   ],
   "source": [
    "plt.figure(figsize = (10, 6))\n",
    "\n",
    "plt.scatter(y_test,y_pred,s=30,alpha=1,color= 'b')\n",
    "plt.title('Scatter Graph (Test vs Predict)')\n",
    "plt.xlabel('Test')\n",
    "plt.ylabel('Predict')\n",
    "\n",
    "\n",
    "min_val = min(min(y_test), min(y_pred))\n",
    "\n",
    "max_val = max(max(y_test),max(y_pred))\n",
    "\n",
    "plt.plot([min_val, max_val], [min_val, max_val], 'r--')\n",
    "\n",
    "plt.show()"
   ]
  },
  {
   "cell_type": "markdown",
   "id": "4b1c3e55-a841-4945-bcb7-155bd0c0561e",
   "metadata": {},
   "source": [
    "## Colors Bar Chart"
   ]
  },
  {
   "cell_type": "code",
   "execution_count": 503,
   "id": "bbd061ca-431b-4062-a7d6-d54e5c2ae039",
   "metadata": {},
   "outputs": [
    {
     "data": {
      "image/png": "[encoded data removed]",
      "text/plain": [
       "<Figure size 900x600 with 1 Axes>"
      ]
     },
     "metadata": {},
     "output_type": "display_data"
    }
   ],
   "source": [
    "count = data['Color'].value_counts()\n",
    "plt.figure(figsize=(9,6))\n",
    "plt.bar(data['Color'].head(5), count.head(5), color=\"purple\")\n",
    "plt.xlabel(\"Categores\")\n",
    "plt.ylabel(\"Labels\")\n",
    "plt.title(\"Top 5 Colors Bar Chart\")\n",
    "plt.show()"
   ]
  },
  {
   "cell_type": "markdown",
   "id": "1d0765f5-a637-4156-a07b-96230f89a99c",
   "metadata": {},
   "source": [
    "## Visualize Correlation Using Heatmap"
   ]
  },
  {
   "cell_type": "code",
   "execution_count": 481,
   "id": "c9c9ff82-21b0-4448-83e3-9aaea002e20d",
   "metadata": {},
   "outputs": [
    {
     "data": {
      "text/html": [
       "<div>\n",
       "<style scoped>\n",
       "    .dataframe tbody tr th:only-of-type {\n",
       "        vertical-align: middle;\n",
       "    }\n",
       "\n",
       "    .dataframe tbody tr th {\n",
       "        vertical-align: top;\n",
       "    }\n",
       "\n",
       "    .dataframe thead th {\n",
       "        text-align: right;\n",
       "    }\n",
       "</style>\n",
       "<table border=\"1\" class=\"dataframe\">\n",
       "  <thead>\n",
       "    <tr style=\"text-align: right;\">\n",
       "      <th></th>\n",
       "      <th>car_model_classes</th>\n",
       "      <th>car_brand_classes</th>\n",
       "      <th>color_classes</th>\n",
       "      <th>automatic_transmission_classes</th>\n",
       "      <th>air_conditioner_classes</th>\n",
       "      <th>power_steering_classes</th>\n",
       "      <th>remote_control_classes</th>\n",
       "      <th>year</th>\n",
       "      <th>miles</th>\n",
       "      <th>price</th>\n",
       "    </tr>\n",
       "  </thead>\n",
       "  <tbody>\n",
       "    <tr>\n",
       "      <th>car_model_classes</th>\n",
       "      <td>1.000000</td>\n",
       "      <td>-0.108680</td>\n",
       "      <td>0.014391</td>\n",
       "      <td>0.075754</td>\n",
       "      <td>-0.028151</td>\n",
       "      <td>-0.009314</td>\n",
       "      <td>-0.041514</td>\n",
       "      <td>0.011364</td>\n",
       "      <td>0.010739</td>\n",
       "      <td>0.017765</td>\n",
       "    </tr>\n",
       "    <tr>\n",
       "      <th>car_brand_classes</th>\n",
       "      <td>-0.108680</td>\n",
       "      <td>1.000000</td>\n",
       "      <td>-0.017242</td>\n",
       "      <td>0.043094</td>\n",
       "      <td>-0.010178</td>\n",
       "      <td>0.008637</td>\n",
       "      <td>0.003579</td>\n",
       "      <td>0.097174</td>\n",
       "      <td>-0.038741</td>\n",
       "      <td>0.030320</td>\n",
       "    </tr>\n",
       "    <tr>\n",
       "      <th>color_classes</th>\n",
       "      <td>0.014391</td>\n",
       "      <td>-0.017242</td>\n",
       "      <td>1.000000</td>\n",
       "      <td>-0.041765</td>\n",
       "      <td>-0.023634</td>\n",
       "      <td>-0.086428</td>\n",
       "      <td>-0.063287</td>\n",
       "      <td>-0.079345</td>\n",
       "      <td>-0.017909</td>\n",
       "      <td>-0.173245</td>\n",
       "    </tr>\n",
       "    <tr>\n",
       "      <th>automatic_transmission_classes</th>\n",
       "      <td>0.075754</td>\n",
       "      <td>0.043094</td>\n",
       "      <td>-0.041765</td>\n",
       "      <td>1.000000</td>\n",
       "      <td>0.559109</td>\n",
       "      <td>0.532162</td>\n",
       "      <td>0.543218</td>\n",
       "      <td>0.421142</td>\n",
       "      <td>-0.271958</td>\n",
       "      <td>0.357643</td>\n",
       "    </tr>\n",
       "    <tr>\n",
       "      <th>air_conditioner_classes</th>\n",
       "      <td>-0.028151</td>\n",
       "      <td>-0.010178</td>\n",
       "      <td>-0.023634</td>\n",
       "      <td>0.559109</td>\n",
       "      <td>1.000000</td>\n",
       "      <td>0.794424</td>\n",
       "      <td>0.824941</td>\n",
       "      <td>0.400536</td>\n",
       "      <td>-0.318444</td>\n",
       "      <td>0.289201</td>\n",
       "    </tr>\n",
       "    <tr>\n",
       "      <th>power_steering_classes</th>\n",
       "      <td>-0.009314</td>\n",
       "      <td>0.008637</td>\n",
       "      <td>-0.086428</td>\n",
       "      <td>0.532162</td>\n",
       "      <td>0.794424</td>\n",
       "      <td>1.000000</td>\n",
       "      <td>0.787490</td>\n",
       "      <td>0.448647</td>\n",
       "      <td>-0.349980</td>\n",
       "      <td>0.335829</td>\n",
       "    </tr>\n",
       "    <tr>\n",
       "      <th>remote_control_classes</th>\n",
       "      <td>-0.041514</td>\n",
       "      <td>0.003579</td>\n",
       "      <td>-0.063287</td>\n",
       "      <td>0.543218</td>\n",
       "      <td>0.824941</td>\n",
       "      <td>0.787490</td>\n",
       "      <td>1.000000</td>\n",
       "      <td>0.411638</td>\n",
       "      <td>-0.303837</td>\n",
       "      <td>0.336606</td>\n",
       "    </tr>\n",
       "    <tr>\n",
       "      <th>year</th>\n",
       "      <td>0.011364</td>\n",
       "      <td>0.097174</td>\n",
       "      <td>-0.079345</td>\n",
       "      <td>0.421142</td>\n",
       "      <td>0.400536</td>\n",
       "      <td>0.448647</td>\n",
       "      <td>0.411638</td>\n",
       "      <td>1.000000</td>\n",
       "      <td>-0.545105</td>\n",
       "      <td>0.514904</td>\n",
       "    </tr>\n",
       "    <tr>\n",
       "      <th>miles</th>\n",
       "      <td>0.010739</td>\n",
       "      <td>-0.038741</td>\n",
       "      <td>-0.017909</td>\n",
       "      <td>-0.271958</td>\n",
       "      <td>-0.318444</td>\n",
       "      <td>-0.349980</td>\n",
       "      <td>-0.303837</td>\n",
       "      <td>-0.545105</td>\n",
       "      <td>1.000000</td>\n",
       "      <td>-0.411830</td>\n",
       "    </tr>\n",
       "    <tr>\n",
       "      <th>price</th>\n",
       "      <td>0.017765</td>\n",
       "      <td>0.030320</td>\n",
       "      <td>-0.173245</td>\n",
       "      <td>0.357643</td>\n",
       "      <td>0.289201</td>\n",
       "      <td>0.335829</td>\n",
       "      <td>0.336606</td>\n",
       "      <td>0.514904</td>\n",
       "      <td>-0.411830</td>\n",
       "      <td>1.000000</td>\n",
       "    </tr>\n",
       "  </tbody>\n",
       "</table>\n",
       "</div>"
      ],
      "text/plain": [
       "                                car_model_classes  car_brand_classes  \\\n",
       "car_model_classes                        1.000000          -0.108680   \n",
       "car_brand_classes                       -0.108680           1.000000   \n",
       "color_classes                            0.014391          -0.017242   \n",
       "automatic_transmission_classes           0.075754           0.043094   \n",
       "air_conditioner_classes                 -0.028151          -0.010178   \n",
       "power_steering_classes                  -0.009314           0.008637   \n",
       "remote_control_classes                  -0.041514           0.003579   \n",
       "year                                     0.011364           0.097174   \n",
       "miles                                    0.010739          -0.038741   \n",
       "price                                    0.017765           0.030320   \n",
       "\n",
       "                                color_classes  automatic_transmission_classes  \\\n",
       "car_model_classes                    0.014391                        0.075754   \n",
       "car_brand_classes                   -0.017242                        0.043094   \n",
       "color_classes                        1.000000                       -0.041765   \n",
       "automatic_transmission_classes      -0.041765                        1.000000   \n",
       "air_conditioner_classes             -0.023634                        0.559109   \n",
       "power_steering_classes              -0.086428                        0.532162   \n",
       "remote_control_classes              -0.063287                        0.543218   \n",
       "year                                -0.079345                        0.421142   \n",
       "miles                               -0.017909                       -0.271958   \n",
       "price                               -0.173245                        0.357643   \n",
       "\n",
       "                                air_conditioner_classes  \\\n",
       "car_model_classes                             -0.028151   \n",
       "car_brand_classes                             -0.010178   \n",
       "color_classes                                 -0.023634   \n",
       "automatic_transmission_classes                 0.559109   \n",
       "air_conditioner_classes                        1.000000   \n",
       "power_steering_classes                         0.794424   \n",
       "remote_control_classes                         0.824941   \n",
       "year                                           0.400536   \n",
       "miles                                         -0.318444   \n",
       "price                                          0.289201   \n",
       "\n",
       "                                power_steering_classes  \\\n",
       "car_model_classes                            -0.009314   \n",
       "car_brand_classes                             0.008637   \n",
       "color_classes                                -0.086428   \n",
       "automatic_transmission_classes                0.532162   \n",
       "air_conditioner_classes                       0.794424   \n",
       "power_steering_classes                        1.000000   \n",
       "remote_control_classes                        0.787490   \n",
       "year                                          0.448647   \n",
       "miles                                        -0.349980   \n",
       "price                                         0.335829   \n",
       "\n",
       "                                remote_control_classes      year     miles  \\\n",
       "car_model_classes                            -0.041514  0.011364  0.010739   \n",
       "car_brand_classes                             0.003579  0.097174 -0.038741   \n",
       "color_classes                                -0.063287 -0.079345 -0.017909   \n",
       "automatic_transmission_classes                0.543218  0.421142 -0.271958   \n",
       "air_conditioner_classes                       0.824941  0.400536 -0.318444   \n",
       "power_steering_classes                        0.787490  0.448647 -0.349980   \n",
       "remote_control_classes                        1.000000  0.411638 -0.303837   \n",
       "year                                          0.411638  1.000000 -0.545105   \n",
       "miles                                        -0.303837 -0.545105  1.000000   \n",
       "price                                         0.336606  0.514904 -0.411830   \n",
       "\n",
       "                                   price  \n",
       "car_model_classes               0.017765  \n",
       "car_brand_classes               0.030320  \n",
       "color_classes                  -0.173245  \n",
       "automatic_transmission_classes  0.357643  \n",
       "air_conditioner_classes         0.289201  \n",
       "power_steering_classes          0.335829  \n",
       "remote_control_classes          0.336606  \n",
       "year                            0.514904  \n",
       "miles                          -0.411830  \n",
       "price                           1.000000  "
      ]
     },
     "execution_count": 481,
     "metadata": {},
     "output_type": "execute_result"
    }
   ],
   "source": [
    "correlation = clear_data.corr()\n",
    "correlation"
   ]
  },
  {
   "cell_type": "code",
   "execution_count": 473,
   "id": "6f6c4617-e9be-479d-bc85-d34e11571667",
   "metadata": {},
   "outputs": [
    {
     "data": {
      "image/png": "[encoded data removed]",
      "text/plain": [
       "<Figure size 1000x600 with 2 Axes>"
      ]
     },
     "metadata": {},
     "output_type": "display_data"
    }
   ],
   "source": [
    "plt.figure(figsize=(10,6))\n",
    "cmap = mcolors.LinearSegmentedColormap.from_list(\"\", [\"purple\", \"black\", \"yellow\"])\n",
    "sns.heatmap(correlation, annot=True, cmap=cmap, square=True)\n",
    "plt.title('Correlation Matrix')\n",
    "plt.show()"
   ]
  },
  {
   "cell_type": "markdown",
   "id": "da46be88-138e-4506-938e-db217a2dc949",
   "metadata": {},
   "source": [
    "## Top 10 Car Brands Plot"
   ]
  },
  {
   "cell_type": "code",
   "execution_count": 474,
   "id": "300ccc94-a825-41e9-aaef-e69ae316bb6f",
   "metadata": {},
   "outputs": [
    {
     "data": {
      "image/png": "[encoded data removed]",
      "text/plain": [
       "<Figure size 640x480 with 1 Axes>"
      ]
     },
     "metadata": {},
     "output_type": "display_data"
    },
    {
     "data": {
      "text/plain": [
       "<Figure size 1000x600 with 0 Axes>"
      ]
     },
     "metadata": {},
     "output_type": "display_data"
    }
   ],
   "source": [
    "data['Make'].value_counts().head(10).plot(kind='bar', color='green')\n",
    "plt.xlabel('Brand')\n",
    "plt.ylabel('Cars Num')\n",
    "plt.title(\"Top 10 Car Brands Histogram\")\n",
    "plt.xticks(rotation=90)\n",
    "plt.figure(figsize=(10,6))\n",
    "plt.tight_layout()\n",
    "plt.show()"
   ]
  },
  {
   "cell_type": "markdown",
   "id": "979d8754-92ab-4a4b-b212-5b09640c9dc0",
   "metadata": {},
   "source": [
    "## Saving model"
   ]
  },
  {
   "cell_type": "code",
   "execution_count": 505,
   "id": "0870bad2-44f6-474f-87c8-291dd7b10ce2",
   "metadata": {},
   "outputs": [],
   "source": [
    "with open(\"car_prices_final.pk1\", \"wb\") as f:\n",
    "    pickle.dump(Regressor,f)"
   ]
  }
 ],
 "metadata": {
  "kernelspec": {
   "display_name": "Python 3 (ipykernel)",
   "language": "python",
   "name": "python3"
  },
  "language_info": {
   "codemirror_mode": {
    "name": "ipython",
    "version": 3
   },
   "file_extension": ".py",
   "mimetype": "text/x-python",
   "name": "python",
   "nbconvert_exporter": "python",
   "pygments_lexer": "ipython3",
   "version": "3.12.7"
  }
 },
 "nbformat": 4,
 "nbformat_minor": 5
}
